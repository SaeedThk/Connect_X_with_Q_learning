{
 "cells": [
  {
   "cell_type": "code",
   "execution_count": 1,
   "id": "f1505ea5",
   "metadata": {},
   "outputs": [],
   "source": [
    "import numpy as np\n",
    "import matplotlib.pyplot as plt\n",
    "%matplotlib inline  \n"
   ]
  },
  {
   "cell_type": "code",
   "execution_count": 2,
   "id": "daf1962d",
   "metadata": {},
   "outputs": [
    {
     "name": "stdout",
     "output_type": "stream",
     "text": [
      "M.shape= (6, 7)\n",
      "M\n",
      " [[0. 0. 0. 0. 0. 0. 0.]\n",
      " [0. 0. 0. 0. 0. 0. 0.]\n",
      " [0. 0. 0. 0. 0. 0. 0.]\n",
      " [0. 0. 0. 0. 0. 0. 0.]\n",
      " [0. 0. 0. 0. 0. 0. 0.]\n",
      " [0. 0. 0. 0. 0. 0. 0.]]\n"
     ]
    },
    {
     "data": {
      "text/plain": [
       "'\\n#Plot the sticks\\nfig=plt.figure(1)\\nplt.matshow(M,cmap=\\'hot\\')\\nplt.xticks([0.5,1.5,2.5,3.5,4.5,5.5])\\nplt.yticks([0.5,1.5,2.5,3.5,4.5,5.5])\\nplt.grid(visible=True,which=\\'both\\')\\nplt.title(\"The board\")\\n'"
      ]
     },
     "execution_count": 2,
     "metadata": {},
     "output_type": "execute_result"
    }
   ],
   "source": [
    "nbrows=6\n",
    "nbcolumns=7\n",
    "M=np.zeros((nbrows,nbcolumns))\n",
    "\n",
    "print(\"M.shape=\",M.shape)\n",
    "print(\"M\\n\",M)\n",
    "\n",
    "'''\n",
    "#Plot the sticks\n",
    "fig=plt.figure(1)\n",
    "plt.matshow(M,cmap='hot')\n",
    "plt.xticks([0.5,1.5,2.5,3.5,4.5,5.5])\n",
    "plt.yticks([0.5,1.5,2.5,3.5,4.5,5.5])\n",
    "plt.grid(visible=True,which='both')\n",
    "plt.title(\"The board\")\n",
    "'''"
   ]
  },
  {
   "cell_type": "code",
   "execution_count": 3,
   "id": "52945377",
   "metadata": {},
   "outputs": [
    {
     "name": "stdout",
     "output_type": "stream",
     "text": [
      "S.shape= (42,)\n",
      "A.shape= (7,)\n",
      "Q1.shape= (42, 7)\n",
      "Q2.shape= (42, 7)\n"
     ]
    }
   ],
   "source": [
    "\n",
    "A = np.array([0,1,2,3,4,5,6])\n",
    "S =[]\n",
    "for i in range(0,nbrows*nbcolumns):\n",
    "    S.append(i)\n",
    "S=np.array(S)\n",
    "print(\"S.shape=\",S.shape)\n",
    "print(\"A.shape=\",A.shape)\n",
    "Q1=np.zeros((S.shape[0],A.shape[0]))\n",
    "Q2=np.zeros((S.shape[0],A.shape[0]))\n",
    "print(\"Q1.shape=\",Q1.shape)\n",
    "print(\"Q2.shape=\",Q2.shape)"
   ]
  },
  {
   "cell_type": "code",
   "execution_count": 4,
   "id": "2a9e7099",
   "metadata": {},
   "outputs": [],
   "source": [
    "\n",
    "def CreateBoardStates(nbrows,nbcolumns):\n",
    "    \n",
    "    boardstate=[]\n",
    "    count=0\n",
    "    for y in range(nbrows):\n",
    "        for x in range(nbcolumns):\n",
    "            boardstate.append((x,y))\n",
    "    return boardstate"
   ]
  },
  {
   "cell_type": "code",
   "execution_count": 5,
   "id": "32c19041",
   "metadata": {},
   "outputs": [
    {
     "name": "stdout",
     "output_type": "stream",
     "text": [
      "len(boardstate)= 42\n",
      "boardstate\n",
      " [(0, 0), (1, 0), (2, 0), (3, 0), (4, 0)]\n"
     ]
    }
   ],
   "source": [
    "boardstate=CreateBoardStates(nbrows,nbcolumns)\n",
    "print(\"len(boardstate)=\",len(boardstate))\n",
    "print(\"boardstate\\n\",boardstate[0:5])\n"
   ]
  },
  {
   "cell_type": "code",
   "execution_count": 6,
   "id": "55757cf5",
   "metadata": {},
   "outputs": [],
   "source": [
    "def getXYfromAgentState(agentstate,boardstate):\n",
    "    xy=boardstate[agentstate]\n",
    "    return xy"
   ]
  },
  {
   "cell_type": "code",
   "execution_count": 7,
   "id": "8370ed21",
   "metadata": {},
   "outputs": [
    {
     "data": {
      "text/plain": [
       "'\\nprint(\"agentstate=0 so xy=\",getXYfromAgentState(0,boardstate))\\nprint(\"agentstate=1 so xy=\",getXYfromAgentState(1,boardstate))\\nprint(\"agentstate=2 so xy=\",getXYfromAgentState(2,boardstate))\\nprint(\"agentstate=3 so xy=\",getXYfromAgentState(3,boardstate))\\nprint(\"agentstate=4 so xy=\",getXYfromAgentState(4,boardstate))\\nprint(\"agentstate=5 so xy=\",getXYfromAgentState(5,boardstate))\\nprint(\"agentstate=6 so xy=\",getXYfromAgentState(6,boardstate))\\nprint(\"agentstate=7 so xy=\",getXYfromAgentState(7,boardstate))\\nprint(\"agentstate=8 so xy=\",getXYfromAgentState(8,boardstate))\\nprint(\"agentstate=35 so xy=\",getXYfromAgentState(35,boardstate))\\nprint(\"agentstate=41 so xy=\",getXYfromAgentState(41,boardstate))\\n'"
      ]
     },
     "execution_count": 7,
     "metadata": {},
     "output_type": "execute_result"
    }
   ],
   "source": [
    "'''\n",
    "print(\"agentstate=0 so xy=\",getXYfromAgentState(0,boardstate))\n",
    "print(\"agentstate=1 so xy=\",getXYfromAgentState(1,boardstate))\n",
    "print(\"agentstate=2 so xy=\",getXYfromAgentState(2,boardstate))\n",
    "print(\"agentstate=3 so xy=\",getXYfromAgentState(3,boardstate))\n",
    "print(\"agentstate=4 so xy=\",getXYfromAgentState(4,boardstate))\n",
    "print(\"agentstate=5 so xy=\",getXYfromAgentState(5,boardstate))\n",
    "print(\"agentstate=6 so xy=\",getXYfromAgentState(6,boardstate))\n",
    "print(\"agentstate=7 so xy=\",getXYfromAgentState(7,boardstate))\n",
    "print(\"agentstate=8 so xy=\",getXYfromAgentState(8,boardstate))\n",
    "print(\"agentstate=35 so xy=\",getXYfromAgentState(35,boardstate))\n",
    "print(\"agentstate=41 so xy=\",getXYfromAgentState(41,boardstate))\n",
    "'''"
   ]
  },
  {
   "cell_type": "code",
   "execution_count": 8,
   "id": "27d245dd",
   "metadata": {},
   "outputs": [],
   "source": [
    "def getAgentStateFromXY(x,y,boardstate):\n",
    "    return boardstate.index((x,y))\n"
   ]
  },
  {
   "cell_type": "code",
   "execution_count": 9,
   "id": "ba719381",
   "metadata": {},
   "outputs": [
    {
     "data": {
      "text/plain": [
       "'\\nprint(\"agentstate=\",getAgentStateFromXY(0,0,boardstate) ,\"so xy=\",(0,0))\\nprint(\"agentstate=\",getAgentStateFromXY(1,0,boardstate) ,\"so xy=\",(1,0))\\nprint(\"agentstate=\",getAgentStateFromXY(2,0,boardstate) ,\"so xy=\",(2,0))\\nprint(\"agentstate=\",getAgentStateFromXY(3,0,boardstate) ,\"so xy=\",(3,0))\\nprint(\"agentstate=\",getAgentStateFromXY(4,0,boardstate) ,\"so xy=\",(4,0))\\nprint(\"agentstate=\",getAgentStateFromXY(5,0,boardstate) ,\"so xy=\",(5,0))\\nprint(\"agentstate=\",getAgentStateFromXY(6,0,boardstate) ,\"so xy=\",(6,0))\\nprint(\"agentstate=\",getAgentStateFromXY(0,1,boardstate) ,\"so xy=\",(0,1))\\nprint(\"agentstate=\",getAgentStateFromXY(1,1,boardstate) ,\"so xy=\",(1,1))\\nprint(\"agentstate=\",getAgentStateFromXY(6,5,boardstate) ,\"so xy=\",(6,5))\\n'"
      ]
     },
     "execution_count": 9,
     "metadata": {},
     "output_type": "execute_result"
    }
   ],
   "source": [
    "'''\n",
    "print(\"agentstate=\",getAgentStateFromXY(0,0,boardstate) ,\"so xy=\",(0,0))\n",
    "print(\"agentstate=\",getAgentStateFromXY(1,0,boardstate) ,\"so xy=\",(1,0))\n",
    "print(\"agentstate=\",getAgentStateFromXY(2,0,boardstate) ,\"so xy=\",(2,0))\n",
    "print(\"agentstate=\",getAgentStateFromXY(3,0,boardstate) ,\"so xy=\",(3,0))\n",
    "print(\"agentstate=\",getAgentStateFromXY(4,0,boardstate) ,\"so xy=\",(4,0))\n",
    "print(\"agentstate=\",getAgentStateFromXY(5,0,boardstate) ,\"so xy=\",(5,0))\n",
    "print(\"agentstate=\",getAgentStateFromXY(6,0,boardstate) ,\"so xy=\",(6,0))\n",
    "print(\"agentstate=\",getAgentStateFromXY(0,1,boardstate) ,\"so xy=\",(0,1))\n",
    "print(\"agentstate=\",getAgentStateFromXY(1,1,boardstate) ,\"so xy=\",(1,1))\n",
    "print(\"agentstate=\",getAgentStateFromXY(6,5,boardstate) ,\"so xy=\",(6,5))\n",
    "'''"
   ]
  },
  {
   "cell_type": "code",
   "execution_count": 10,
   "id": "ddd66b31",
   "metadata": {},
   "outputs": [],
   "source": [
    "def ComputeNewState(action,M,boardstate):\n",
    "    y=0\n",
    "    x=action\n",
    "    \n",
    "    if M[y,x]!=0:\n",
    "        return -1,x,y\n",
    "    \n",
    "    while y<M.shape[0] and M[y,x]==0:\n",
    "        y=y+1\n",
    "\n",
    "    \n",
    "    if y>0:\n",
    "        y=y-1\n",
    "    \n",
    "    newagentstate=getAgentStateFromXY(x,y,boardstate)\n",
    "    return newagentstate,x,y\n",
    "\n"
   ]
  },
  {
   "cell_type": "code",
   "execution_count": 11,
   "id": "c6b7d041",
   "metadata": {},
   "outputs": [
    {
     "name": "stdout",
     "output_type": "stream",
     "text": [
      "(6, 7)\n",
      "newagentstate,x,y 35 0 5\n",
      "newagentstate,x,y 28 0 4\n",
      "newagentstate,x,y 21 0 3\n",
      "newagentstate,x,y 14 0 2\n",
      "newagentstate,x,y 7 0 1\n",
      "newagentstate,x,y 0 0 0\n"
     ]
    },
    {
     "data": {
      "text/plain": [
       "Text(0.5, 1.0, 'The board')"
      ]
     },
     "execution_count": 11,
     "metadata": {},
     "output_type": "execute_result"
    },
    {
     "data": {
      "text/plain": [
       "<Figure size 640x480 with 0 Axes>"
      ]
     },
     "metadata": {},
     "output_type": "display_data"
    },
    {
     "data": {
      "image/png": "[encoded data removed]",
      "text/plain": [
       "<Figure size 560x480 with 1 Axes>"
      ]
     },
     "metadata": {},
     "output_type": "display_data"
    },
    {
     "data": {
      "image/png": "[encoded data removed]",
      "text/plain": [
       "<Figure size 560x480 with 1 Axes>"
      ]
     },
     "metadata": {},
     "output_type": "display_data"
    },
    {
     "data": {
      "image/png": "[encoded data removed]",
      "text/plain": [
       "<Figure size 560x480 with 1 Axes>"
      ]
     },
     "metadata": {},
     "output_type": "display_data"
    },
    {
     "data": {
      "image/png": "[encoded data removed]",
      "text/plain": [
       "<Figure size 560x480 with 1 Axes>"
      ]
     },
     "metadata": {},
     "output_type": "display_data"
    },
    {
     "data": {
      "image/png": "[encoded data removed]",
      "text/plain": [
       "<Figure size 560x480 with 1 Axes>"
      ]
     },
     "metadata": {},
     "output_type": "display_data"
    },
    {
     "data": {
      "image/png": "[encoded data removed]",
      "text/plain": [
       "<Figure size 560x480 with 1 Axes>"
      ]
     },
     "metadata": {},
     "output_type": "display_data"
    }
   ],
   "source": [
    "\n",
    "M=np.zeros((nbrows,nbcolumns))\n",
    "print(M.shape)\n",
    "\n",
    "newagentstate,x,y=ComputeNewState(0,M,boardstate)\n",
    "print(\"newagentstate,x,y\",newagentstate,x,y)\n",
    "M[y,x]=1\n",
    "\n",
    "fig=plt.figure(1)\n",
    "plt.matshow(M,cmap='gray')\n",
    "plt.xticks([0.5,1.5,2.5,3.5,4.5,5.5])\n",
    "plt.yticks([0.5,1.5,2.5,3.5,4.5,5.5])\n",
    "plt.grid(visible=True,which='both')\n",
    "plt.title(\"The board\")\n",
    "\n",
    "newagentstate,x,y=ComputeNewState(0,M,boardstate)\n",
    "print(\"newagentstate,x,y\",newagentstate,x,y)\n",
    "M[y,x]=1\n",
    "\n",
    "fig=plt.figure(2)\n",
    "plt.matshow(M,cmap='gray')\n",
    "plt.xticks([0.5,1.5,2.5,3.5,4.5,5.5])\n",
    "plt.yticks([0.5,1.5,2.5,3.5,4.5,5.5])\n",
    "plt.grid(visible=True,which='both')\n",
    "plt.title(\"The board\")\n",
    "\n",
    "newagentstate,x,y=ComputeNewState(0,M,boardstate)\n",
    "print(\"newagentstate,x,y\",newagentstate,x,y)\n",
    "M[y,x]=1\n",
    "\n",
    "fig=plt.figure(2)\n",
    "plt.matshow(M,cmap='gray')\n",
    "plt.xticks([0.5,1.5,2.5,3.5,4.5,5.5])\n",
    "plt.yticks([0.5,1.5,2.5,3.5,4.5,5.5])\n",
    "plt.grid(visible=True,which='both')\n",
    "plt.title(\"The board\")\n",
    "\n",
    "newagentstate,x,y=ComputeNewState(0,M,boardstate)\n",
    "print(\"newagentstate,x,y\",newagentstate,x,y)\n",
    "M[y,x]=1\n",
    "\n",
    "fig=plt.figure(2)\n",
    "plt.matshow(M,cmap='gray')\n",
    "plt.xticks([0.5,1.5,2.5,3.5,4.5,5.5])\n",
    "plt.yticks([0.5,1.5,2.5,3.5,4.5,5.5])\n",
    "plt.grid(visible=True,which='both')\n",
    "plt.title(\"The board\")\n",
    "\n",
    "newagentstate,x,y=ComputeNewState(0,M,boardstate)\n",
    "print(\"newagentstate,x,y\",newagentstate,x,y)\n",
    "M[y,x]=1\n",
    "\n",
    "fig=plt.figure(2)\n",
    "plt.matshow(M,cmap='gray')\n",
    "plt.xticks([0.5,1.5,2.5,3.5,4.5,5.5])\n",
    "plt.yticks([0.5,1.5,2.5,3.5,4.5,5.5])\n",
    "plt.grid(visible=True,which='both')\n",
    "plt.title(\"The board\")\n",
    "\n",
    "newagentstate,x,y=ComputeNewState(0,M,boardstate)\n",
    "print(\"newagentstate,x,y\",newagentstate,x,y)\n",
    "M[y,x]=1\n",
    "\n",
    "fig=plt.figure(2)\n",
    "plt.matshow(M,cmap='gray')\n",
    "plt.xticks([0.5,1.5,2.5,3.5,4.5,5.5])\n",
    "plt.yticks([0.5,1.5,2.5,3.5,4.5,5.5])\n",
    "plt.grid(visible=True,which='both')\n",
    "plt.title(\"The board\")\n"
   ]
  },
  {
   "cell_type": "code",
   "execution_count": 12,
   "id": "18820e0c",
   "metadata": {},
   "outputs": [],
   "source": [
    "\n",
    "def Checkforoneplayer(M,idplayer):\n",
    "    COLUMN_COUNT=M.shape[1]\n",
    "    ROW_COUNT=M.shape[0]\n",
    "    \n",
    "    for c in range(COLUMN_COUNT-3):\n",
    "        for r in range(ROW_COUNT):\n",
    "            if M[r][c] == idplayer and M[r][c+1] == idplayer and M[r][c+2] == idplayer and M[r][c+3] == idplayer:\n",
    "                return True\n",
    "\n",
    "    for c in range(COLUMN_COUNT):\n",
    "        for r in range(ROW_COUNT-3):\n",
    "            if M[r][c] == idplayer and M[r+1][c] == idplayer and M[r+2][c] == idplayer and M[r+3][c] == idplayer:\n",
    "                return True\n",
    "\n",
    "    for c in range(COLUMN_COUNT-3):\n",
    "        for r in range(ROW_COUNT-3):\n",
    "            if M[r][c] == idplayer and M[r+1][c+1] == idplayer and M[r+2][c+2] == idplayer and M[r+3][c+3] == idplayer:\n",
    "                return True\n",
    "\n",
    "    for c in range(COLUMN_COUNT-3):\n",
    "        for r in range(3, ROW_COUNT):\n",
    "            if M[r][c] == idplayer and M[r-1][c+1] == idplayer and M[r-2][c+2] == idplayer and M[r-3][c+3] == idplayer:\n",
    "                return True\n",
    "\n",
    "       \n",
    "    return False\n",
    "    \n",
    "def CheckIfWinningGame(M,idplayer):\n",
    "    \n",
    "    winner=False\n",
    "    #Checking for player one\n",
    "    winnerid=Checkforoneplayer(M,idplayer)\n",
    "    \n",
    "    return winnerid"
   ]
  },
  {
   "cell_type": "code",
   "execution_count": 13,
   "id": "0f835ec2",
   "metadata": {},
   "outputs": [
    {
     "data": {
      "text/plain": [
       "'\\nM=np.zeros((nbrows,nbcolumns))\\n\\n\\nM = np.array([[0, 0, 0, 0, 0, 0, 0],\\n              [0, 0, 0, 0, 0, 0, 0],\\n              [0, 0, 0, 0, 0, 0, 0],\\n              [0, 0, 0, 0, 2, 0, 0],\\n              [0, 0, 0, 2, 0, 0, 0],\\n              [0, 0, 2, 0, 0, 0, 0]])\\nprint(M)\\nprint(\"And player one wins=\",CheckIfWinningGame(M,1))\\nprint(\"And player two wins=\",CheckIfWinningGame(M,2))\\n'"
      ]
     },
     "execution_count": 13,
     "metadata": {},
     "output_type": "execute_result"
    }
   ],
   "source": [
    "'''\n",
    "M=np.zeros((nbrows,nbcolumns))\n",
    "\n",
    "\n",
    "M = np.array([[0, 0, 0, 0, 0, 0, 0],\n",
    "              [0, 0, 0, 0, 0, 0, 0],\n",
    "              [0, 0, 0, 0, 0, 0, 0],\n",
    "              [0, 0, 0, 0, 2, 0, 0],\n",
    "              [0, 0, 0, 2, 0, 0, 0],\n",
    "              [0, 0, 2, 0, 0, 0, 0]])\n",
    "print(M)\n",
    "print(\"And player one wins=\",CheckIfWinningGame(M,1))\n",
    "print(\"And player two wins=\",CheckIfWinningGame(M,2))\n",
    "'''"
   ]
  },
  {
   "cell_type": "code",
   "execution_count": 14,
   "id": "00cfb4a0",
   "metadata": {},
   "outputs": [],
   "source": [
    "def step(action,agentstate,M,playerid,boardstate):\n",
    "    done=False\n",
    "    reward=0\n",
    "    newagentstate,xnew,ynew=ComputeNewState(action,M,boardstate)\n",
    "    \n",
    "    if newagentstate==-1:\n",
    "        done=True\n",
    "        reward=-1\n",
    "        return agentstate,reward,done\n",
    "    \n",
    "    M[ynew,xnew]=playerid\n",
    "    \n",
    "    win=False\n",
    "    win=CheckIfWinningGame(M,playerid)\n",
    "    \n",
    "    if win==True:\n",
    "        reward=1\n",
    "        done=True\n",
    "        \n",
    "    return newagentstate,reward,done"
   ]
  },
  {
   "cell_type": "code",
   "execution_count": 15,
   "id": "77351d3d",
   "metadata": {},
   "outputs": [
    {
     "name": "stdout",
     "output_type": "stream",
     "text": [
      "(35, 0, False)\n",
      "[[0. 0. 0. 0. 0. 0. 0.]\n",
      " [0. 0. 0. 0. 0. 0. 0.]\n",
      " [0. 0. 0. 0. 0. 0. 0.]\n",
      " [0. 0. 0. 0. 0. 0. 0.]\n",
      " [0. 0. 0. 0. 0. 0. 0.]\n",
      " [1. 0. 0. 0. 0. 0. 0.]]\n",
      "(28, 0, False)\n",
      "[[0. 0. 0. 0. 0. 0. 0.]\n",
      " [0. 0. 0. 0. 0. 0. 0.]\n",
      " [0. 0. 0. 0. 0. 0. 0.]\n",
      " [0. 0. 0. 0. 0. 0. 0.]\n",
      " [2. 0. 0. 0. 0. 0. 0.]\n",
      " [1. 0. 0. 0. 0. 0. 0.]]\n"
     ]
    }
   ],
   "source": [
    "M=np.zeros((nbrows,nbcolumns))\n",
    "print(step(0,0,M,1,boardstate) )\n",
    "print(M)\n",
    "print(step(0,35,M,2,boardstate) )\n",
    "print(M)"
   ]
  },
  {
   "cell_type": "code",
   "execution_count": 16,
   "id": "9f67273c",
   "metadata": {},
   "outputs": [
    {
     "name": "stdout",
     "output_type": "stream",
     "text": [
      "3 38 38 False\n",
      "4 39 39 False\n",
      "4 32 32 False\n",
      "2 37 37 False\n",
      "4 25 25 False\n",
      "2 30 30 False\n",
      "6 41 41 False\n",
      "4 18 18 False\n",
      "0 35 35 False\n",
      "0 28 28 False\n",
      "2 23 23 False\n",
      "6 34 34 False\n",
      "6 27 27 False\n",
      "5 40 40 False\n",
      "5 33 33 False\n",
      "4 11 11 False\n",
      "2 16 16 False\n",
      "3 31 31 False\n",
      "6 20 20 False\n",
      "6 13 13 False\n",
      "3 24 24 False\n",
      "4 4 4 False\n",
      "6 6 6 False\n",
      "1 36 36 False\n",
      "0 21 21 False\n",
      "2 9 9 False\n",
      "0 14 14 False\n",
      "1 29 29 True\n",
      "And player one wins= False\n",
      "And player two wins= True\n"
     ]
    },
    {
     "data": {
      "image/png": "[encoded data removed]",
      "text/plain": [
       "<Figure size 640x480 with 1 Axes>"
      ]
     },
     "metadata": {},
     "output_type": "display_data"
    }
   ],
   "source": [
    "\n",
    "from celluloid import Camera\n",
    "nbrows=6\n",
    "nbcolumns=7\n",
    "M=np.zeros((nbrows,nbcolumns))\n",
    "\n",
    "fig = plt.figure() \n",
    "\n",
    "camera = Camera(fig)\n",
    "\n",
    "state=0 \n",
    "done=False\n",
    "listimages=[] \n",
    "stepcounter=0\n",
    "idplayer=1\n",
    "while done != True: \n",
    "    action = np.random.choice(A) \n",
    "    newtstate,reward,end=step(action,state,M,idplayer,boardstate)\n",
    "    state=newtstate \n",
    "    done=end \n",
    "    stepcounter=stepcounter+1\n",
    "    print(action,state,newtstate,end) \n",
    "    im = plt.imshow(M, animated=True,cmap='gray')\n",
    "    plt.grid(visible=True,which='both')\n",
    "    plt.xticks([0.5,1.5,2.5,3.5,4.5,5.5])\n",
    "    plt.yticks([0.5,1.5,2.5,3.5,4.5,5.5])\n",
    "    listimages.append([im]) \n",
    "    camera.snap()\n",
    "    idplayer=idplayer+1\n",
    "    if idplayer==3:\n",
    "        idplayer=1\n",
    "        \n",
    "print(\"And player one wins=\",CheckIfWinningGame(M,1))\n",
    "print(\"And player two wins=\",CheckIfWinningGame(M,2))"
   ]
  },
  {
   "cell_type": "code",
   "execution_count": 17,
   "id": "218fc2f1",
   "metadata": {},
   "outputs": [
    {
     "name": "stderr",
     "output_type": "stream",
     "text": [
      "MovieWriter ffmpeg unavailable; using Pillow instead.\n"
     ]
    }
   ],
   "source": [
    "animation = camera.animate()\n",
    "animation.save('animation.gif')#, writer='PillowWriter', fps=1"
   ]
  },
  {
   "cell_type": "raw",
   "id": "4d92b486",
   "metadata": {},
   "source": [
    "from matplotlib import animation, rc\n",
    "from IPython.display import HTML\n",
    "from celluloid import Camera\n",
    "\n",
    "ani = animation.ArtistAnimation(fig, listimages, interval=2000, blit=True,\n",
    "                                repeat_delay=100)\n",
    "\n",
    "\n",
    "ani.save('RandomConnect4.mp4',)\n",
    "\n",
    "plt.show()\n",
    "HTML(ani.to_html5_video())"
   ]
  },
  {
   "cell_type": "code",
   "execution_count": 18,
   "id": "efae0d30",
   "metadata": {},
   "outputs": [],
   "source": [
    "def ChooseActionFromPolicy(A,epsilon,Q,state):\n",
    "    rnd=np.random.random()\n",
    "    if rnd<epsilon:\n",
    "        action = np.random.choice(A)\n",
    "    else:\n",
    "        action = Q[state,:].argmax()\n",
    "\n",
    "    return action"
   ]
  },
  {
   "cell_type": "code",
   "execution_count": 19,
   "id": "9580f192",
   "metadata": {},
   "outputs": [],
   "source": [
    "\n",
    "def UpdateQ(Q,state,action,newstate,reward,alpha,gamma):    \n",
    "    firstterm=(1-alpha)*Q[state,action]\n",
    "    secondterm=gamma*Q[newstate,:].max()\n",
    "    thirdterm=alpha*(reward+secondterm)\n",
    "    res=firstterm+thirdterm\n",
    "    Q[state,action]=res\n",
    "    "
   ]
  },
  {
   "cell_type": "code",
   "execution_count": 20,
   "id": "73948661",
   "metadata": {},
   "outputs": [],
   "source": [
    "def debugfunction(at,s,M,Q1,Q2,epsilon,t,player,listimages):\n",
    "        ttl = plt.text(3, 43, \n",
    "                       \"Board                               Qtable-Player 1                     Qtable-Player 2\"+\n",
    "                       \"\\nAction player \"+str(player)+\"=\"+str(at)+\" and State =\"+str(s)+\n",
    "                       \"| Number of games=\"+str(t)+\"| epsilon=\"+\"{:.2f}\".format(epsilon)                       \n",
    "                       ,horizontalalignment='right', verticalalignment='top', fontsize=\"small\")\n",
    "        #vmin=0, vmax=1,\n",
    "        im1 = axarr[0].matshow(M, animated=True,vmax=2,cmap='gray')\n",
    "        im2 = axarr[1].matshow(Q1, animated=True,cmap='gray')\n",
    "        im3 = axarr[2].matshow(Q2, animated=True,cmap='gray')\n",
    "        listimages.append([im1,im2,im3,ttl])\n",
    "    \n",
    "\n",
    "def OneGameLearning(A,Q1,Q2,M,epsilon1,espilon2,alpha,gamma,listimages,t,debug):\n",
    "    if debug==True:\n",
    "        debugfunction(-1,0,M,Q1,Q2,-1,t,-1,listimages)        \n",
    "        \n",
    "       \n",
    "    s=0 \n",
    "    done = False\n",
    "    while done != True :\n",
    "        \n",
    "        # First Player 1\n",
    "        at1= ChooseActionFromPolicy(A,epsilon1,Q1,s)\n",
    "        st1,rt1,end1=step(at1,s,M,1,boardstate) \n",
    "        \n",
    "        UpdateQ(Q1,s,at1,st1,rt1,alpha,gamma)\n",
    "\n",
    "        if debug==True:\n",
    "            debugfunction(at1,st1,M,Q1,Q2,epsilon1,t,1,listimages)        \n",
    "\n",
    "        \n",
    "\n",
    "        if end1==True and rt1>0:\n",
    "            return 1\n",
    "        \n",
    "\n",
    "        if end1==True and rt1==-1:\n",
    "            return 2\n",
    "        \n",
    "        \n",
    "   \n",
    "\n",
    "        at2= ChooseActionFromPolicy(A,epsilon2,Q2,st1)\n",
    "        st2,rt2,end2=step(at2,st1,M,2,boardstate)\n",
    "\n",
    "        UpdateQ(Q2,st1,at2,st2,rt2,alpha,gamma)\n",
    "        \n",
    "        if debug==True and rt2==1:\n",
    "            debugfunction(at2,st2,M,Q1,Q2,epsilon2,t,2,listimages)\n",
    "        \n",
    "        if end2==True and rt2>0:\n",
    "            return 2\n",
    "        \n",
    "        if end2==True and rt2==-1:\n",
    "            return 1\n",
    "\n",
    "        s=st2\n",
    "    \n",
    "    return 0\n"
   ]
  },
  {
   "cell_type": "code",
   "execution_count": 21,
   "id": "639e8f15",
   "metadata": {},
   "outputs": [
    {
     "name": "stdout",
     "output_type": "stream",
     "text": [
      "(6, 7)\n",
      "S= [ 0  1  2  3  4  5  6  7  8  9 10 11 12 13 14 15 16 17 18 19 20 21 22 23\n",
      " 24 25 26 27 28 29 30 31 32 33 34 35 36 37 38 39 40 41]\n",
      "S.shape= (42,)\n",
      "A= [0 1 2 3 4 5 6]\n",
      "A.shape= (7,)\n",
      "Q1.shape= (42, 7)\n",
      "Q2.shape= (42, 7)\n",
      "M= [[0. 0. 0. 0. 0. 0. 0.]\n",
      " [0. 0. 0. 0. 0. 0. 0.]\n",
      " [0. 0. 0. 0. 0. 0. 0.]\n",
      " [0. 0. 0. 0. 0. 0. 0.]\n",
      " [0. 0. 0. 0. 0. 0. 0.]\n",
      " [0. 0. 0. 0. 0. 0. 0.]]\n",
      "M.shape= (6, 7)\n",
      "t= 0 epsilon1= 0.3  player  1  wins\n",
      "t= 1 epsilon1= 0.3  player  2  wins\n",
      "t= 2 epsilon1= 0.3  player  1  wins\n",
      "t= 3 epsilon1= 0.3  player  1  wins\n",
      "t= 4 epsilon1= 0.3  player  1  wins\n",
      "Fin du QLearning !!!\n",
      "Percentage of winning games for player one : 80.0\n"
     ]
    },
    {
     "data": {
      "image/png": "[encoded data removed]",
      "text/plain": [
       "<Figure size 640x480 with 3 Axes>"
      ]
     },
     "metadata": {},
     "output_type": "display_data"
    }
   ],
   "source": [
    "# 5 games\n",
    "f, axarr = plt.subplots(1,3)\n",
    "listimages=[] \n",
    "\n",
    "axarr[0].set_xticks([0.5,1.5,2.5,3.5,4.5,5.5])\n",
    "axarr[0].set_yticks([0.5,1.5,2.5,3.5,4.5,5.5])\n",
    "axarr[1].set_xticks([0.5,1.5,2.5,3.5,4.5,5.5])\n",
    "axarr[1].set_yticks([0.5,1.5,2.5,3.5,4.5,5.5])\n",
    "axarr[2].set_xticks([0.5,1.5,2.5,3.5,4.5,5.5])\n",
    "axarr[2].set_yticks([0.5,1.5,2.5,3.5,4.5,5.5])\n",
    "axarr[0].grid(visible=True,which='both')\n",
    "axarr[1].grid(visible=True,which='both')\n",
    "axarr[2].grid(visible=True,which='both')\n",
    "\n",
    "\n",
    "Q1=np.zeros((S.shape[0],A.shape[0]))\n",
    "Q2=np.zeros((S.shape[0],A.shape[0]))\n",
    "\n",
    "\n",
    "boardstate=CreateBoardStates(nbrows,nbcolumns)\n",
    "M=np.zeros((nbrows,nbcolumns))\n",
    "print(M.shape)\n",
    "\n",
    "\n",
    "print(\"S=\",S)\n",
    "print(\"S.shape=\",S.shape)\n",
    "print(\"A=\",A)\n",
    "print(\"A.shape=\",A.shape)\n",
    "print(\"Q1.shape=\",Q1.shape)\n",
    "print(\"Q2.shape=\",Q2.shape)\n",
    "print(\"M=\",M)\n",
    "print(\"M.shape=\",M.shape)\n",
    "\n",
    "\n",
    "\n",
    "alpha=0.01 #learing rate\n",
    "gamma=0.9 #Discount factor\n",
    "epsilon1=0.3 #probability of exploration we want to get at the end\n",
    "epsilon2=1 #probability of exploration we want to get at the end\n",
    "nbgames=5 # number of games\n",
    "\n",
    "\n",
    "statsnbplayeronewins=0\n",
    "for t in range(nbgames):\n",
    "\n",
    "    \n",
    "    M=np.zeros((nbrows,nbcolumns))\n",
    "    playeronewins=OneGameLearning(A,Q1,Q2,M,epsilon1,epsilon2,alpha,gamma,listimages,t,True)\n",
    "    if playeronewins==1:\n",
    "        statsnbplayeronewins+=1\n",
    "    \n",
    "    print(\"t=\",t, \"epsilon1=\",epsilon1,\" player \",playeronewins,\" wins\")\n",
    "statsnbplayeronewins/=float(nbgames)\n",
    "statsnbplayeronewins*=100\n",
    "print(\"Fin du QLearning !!!\")\n",
    "print(\"Percentage of winning games for player one : \"+str(statsnbplayeronewins))\n",
    "\n"
   ]
  },
  {
   "cell_type": "code",
   "execution_count": 22,
   "id": "91c58ea2",
   "metadata": {},
   "outputs": [
    {
     "name": "stderr",
     "output_type": "stream",
     "text": [
      "MovieWriter ffmpeg unavailable; using Pillow instead.\n"
     ]
    }
   ],
   "source": [
    "from matplotlib import animation, rc\n",
    "from IPython.display import HTML\n",
    "\n",
    "ani = animation.ArtistAnimation(f, listimages, interval=8000, blit=True,\n",
    "                                repeat_delay=100)\n",
    "\n",
    "\n",
    "ani.save('QlearningConnect4.gif')\n",
    "\n",
    "plt.show()"
   ]
  },
  {
   "cell_type": "code",
   "execution_count": 23,
   "id": "0b34a148",
   "metadata": {},
   "outputs": [
    {
     "name": "stdout",
     "output_type": "stream",
     "text": [
      "(6, 7)\n",
      "S= [ 0  1  2  3  4  5  6  7  8  9 10 11 12 13 14 15 16 17 18 19 20 21 22 23\n",
      " 24 25 26 27 28 29 30 31 32 33 34 35 36 37 38 39 40 41]\n",
      "S.shape= (42,)\n",
      "A= [0 1 2 3 4 5 6]\n",
      "A.shape= (7,)\n",
      "Q1.shape= (42, 7)\n",
      "Q2.shape= (42, 7)\n",
      "M= [[0. 0. 0. 0. 0. 0. 0.]\n",
      " [0. 0. 0. 0. 0. 0. 0.]\n",
      " [0. 0. 0. 0. 0. 0. 0.]\n",
      " [0. 0. 0. 0. 0. 0. 0.]\n",
      " [0. 0. 0. 0. 0. 0. 0.]\n",
      " [0. 0. 0. 0. 0. 0. 0.]]\n",
      "M.shape= (6, 7)\n",
      "Fin du QLearning !!!\n",
      "Percentage of winning games for player one : 59.97\n"
     ]
    },
    {
     "data": {
      "text/plain": [
       "<matplotlib.colorbar.Colorbar at 0x127b0e5b0>"
      ]
     },
     "execution_count": 23,
     "metadata": {},
     "output_type": "execute_result"
    },
    {
     "data": {
      "image/png": "[encoded data removed]",
      "text/plain": [
       "<Figure size 640x480 with 4 Axes>"
      ]
     },
     "metadata": {},
     "output_type": "display_data"
    }
   ],
   "source": [
    "\n",
    "f, axarr = plt.subplots(1,3)\n",
    "listimages=[]\n",
    "\n",
    "axarr[0].set_xticks([0.5,1.5,2.5,3.5,4.5,5.5])\n",
    "axarr[0].set_yticks([0.5,1.5,2.5,3.5,4.5,5.5])\n",
    "axarr[1].set_xticks([0.5,1.5,2.5,3.5,4.5,5.5])\n",
    "axarr[1].set_yticks([0.5,1.5,2.5,3.5,4.5,5.5])\n",
    "axarr[2].set_xticks([0.5,1.5,2.5,3.5,4.5,5.5])\n",
    "axarr[2].set_yticks([0.5,1.5,2.5,3.5,4.5,5.5])\n",
    "axarr[0].grid(visible=True,which='both')\n",
    "axarr[1].grid(visible=True,which='both')\n",
    "axarr[2].grid(visible=True,which='both')\n",
    "\n",
    "\n",
    "Q1=np.zeros((S.shape[0],A.shape[0]))\n",
    "Q2=np.zeros((S.shape[0],A.shape[0]))\n",
    "\n",
    "\n",
    "boardstate=CreateBoardStates(nbrows,nbcolumns)\n",
    "M=np.zeros((nbrows,nbcolumns))\n",
    "print(M.shape)\n",
    "\n",
    "print(\"S=\",S)\n",
    "print(\"S.shape=\",S.shape)\n",
    "print(\"A=\",A)\n",
    "print(\"A.shape=\",A.shape)\n",
    "print(\"Q1.shape=\",Q1.shape)\n",
    "print(\"Q2.shape=\",Q2.shape)\n",
    "print(\"M=\",M)\n",
    "print(\"M.shape=\",M.shape)\n",
    "\n",
    "\n",
    "\n",
    "alpha=0.01 #learing rate\n",
    "gamma=0.9 #Discount factor\n",
    "epsilon1=0.3 #probability of exploration we want to get at the end\n",
    "epsilon2=1 #probability of exploration we want to get at the end\n",
    "nbgames=10000 # number of games\n",
    "\n",
    "\n",
    "statsnbplayeronewins=0\n",
    "for t in range(nbgames):\n",
    "\n",
    "    \n",
    "    M=np.zeros((nbrows,nbcolumns))\n",
    "    playeronewins=OneGameLearning(A,Q1,Q2,M,epsilon1,epsilon2,alpha,gamma,listimages,t,False)\n",
    "    if playeronewins==1:\n",
    "        statsnbplayeronewins+=1\n",
    "    \n",
    "statsnbplayeronewins/=float(nbgames)\n",
    "statsnbplayeronewins*=100\n",
    "print(\"Fin du QLearning !!!\")\n",
    "print(\"Percentage of winning games for player one : \"+str(statsnbplayeronewins))\n",
    "\n",
    "\n",
    "ttl = plt.text(3, 43, \n",
    "                       \"Board                               Qtable-Player 1                     Qtable-Player 2\"+\n",
    "                       \"\\nAction player \"+str(-1)+\"=\"+str(-1)+\" and State =\"+str(-1)+\n",
    "                       \"| Number of games=\"+str(nbgames)+\"| epsilon=\"+\"{:.2f}\".format(-1)                       \n",
    "                       ,horizontalalignment='right', verticalalignment='top', fontsize=\"small\")\n",
    "        #vmin=0, vmax=1,\n",
    "im1 = axarr[0].matshow(M, animated=True,cmap='gray')\n",
    "im2 = axarr[1].matshow(Q1, animated=True,cmap='gray')\n",
    "im3 = axarr[2].matshow(Q2, animated=True,cmap='gray')\n",
    "listimages.append([im1,im2,im3,ttl])\n",
    "f.colorbar(im3,ax=axarr[2])"
   ]
  },
  {
   "cell_type": "code",
   "execution_count": null,
   "id": "65d3dfab",
   "metadata": {},
   "outputs": [],
   "source": []
  }
 ],
 "metadata": {
  "kernelspec": {
   "display_name": "Python 3 (ipykernel)",
   "language": "python",
   "name": "python3"
  },
  "language_info": {
   "codemirror_mode": {
    "name": "ipython",
    "version": 3
   },
   "file_extension": ".py",
   "mimetype": "text/x-python",
   "name": "python",
   "nbconvert_exporter": "python",
   "pygments_lexer": "ipython3",
   "version": "3.9.13"
  }
 },
 "nbformat": 4,
 "nbformat_minor": 5
}
